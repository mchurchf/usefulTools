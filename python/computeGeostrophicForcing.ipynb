{
 "cells": [
  {
   "cell_type": "code",
   "execution_count": 8,
   "id": "5aa19f03",
   "metadata": {},
   "outputs": [],
   "source": [
    "### Load necessary modules.\n",
    "\n",
    "import numpy as np\n",
    "\n",
    "\n"
   ]
  },
  {
   "cell_type": "code",
   "execution_count": 9,
   "id": "0f19e395",
   "metadata": {},
   "outputs": [],
   "source": [
    "latitude = 45.0\n",
    "rotationPeriod = 24.0*3600.0\n",
    "geostrophicWind = [15.0, 0.0, 0.0]\n",
    "\n",
    "\n"
   ]
  },
  {
   "cell_type": "code",
   "execution_count": 10,
   "id": "76d538b1",
   "metadata": {},
   "outputs": [
    {
     "name": "stdout",
     "output_type": "stream",
     "text": [
      "Sx: -0.0\n",
      "Sy: 0.0015426676868605434\n",
      "Sz: -0.0015426676868605439\n"
     ]
    }
   ],
   "source": [
    "Omega_x = 0.0\n",
    "Omega_y = ((2.0*np.pi)/rotationPeriod)*np.cos(latitude*np.pi/180.0)\n",
    "Omega_z = ((2.0*np.pi)/rotationPeriod)*np.sin(latitude*np.pi/180.0)\n",
    "\n",
    "Sx = -2.0 * Omega_z * geostrophicWind[1]\n",
    "Sy =  2.0 * Omega_z * geostrophicWind[0]\n",
    "Sz = -2.0 * Omega_y * geostrophicWind[0]\n",
    "\n",
    "print(\"Sx:\",Sx)\n",
    "print(\"Sy:\",Sy)\n",
    "print(\"Sz:\",Sz)"
   ]
  },
  {
   "cell_type": "code",
   "execution_count": null,
   "id": "9a0e2422",
   "metadata": {},
   "outputs": [],
   "source": []
  }
 ],
 "metadata": {
  "kernelspec": {
   "display_name": "Python 3 (ipykernel)",
   "language": "python",
   "name": "python3"
  },
  "language_info": {
   "codemirror_mode": {
    "name": "ipython",
    "version": 3
   },
   "file_extension": ".py",
   "mimetype": "text/x-python",
   "name": "python",
   "nbconvert_exporter": "python",
   "pygments_lexer": "ipython3",
   "version": "3.9.12"
  }
 },
 "nbformat": 4,
 "nbformat_minor": 5
}
